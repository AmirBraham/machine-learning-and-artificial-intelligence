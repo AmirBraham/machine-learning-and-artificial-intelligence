{
  "cells": [
    {
      "cell_type": "code",
      "execution_count": 2,
      "metadata": {
        "id": "yg3BOrsgPTKL"
      },
      "outputs": [],
      "source": [
        "import glob\n",
        "import pickle\n",
        "import numpy\n",
        "import tensorflow as tf\n",
        "from music21 import converter, instrument, note, chord\n",
        "from keras.models import Sequential\n",
        "from keras.layers import Dense\n",
        "from keras.layers import Dropout\n",
        "from keras.layers import LSTM\n",
        "from keras.layers import Activation\n",
        "from keras.layers import BatchNormalization as BatchNorm\n",
        "from keras.callbacks import ModelCheckpoint"
      ]
    },
    {
      "cell_type": "markdown",
      "metadata": {
        "id": "RQ7bMsNiPcNk"
      },
      "source": [
        "\n",
        "\n",
        "Preparing notes\n"
      ]
    },
    {
      "cell_type": "code",
      "execution_count": 3,
      "metadata": {
        "colab": {
          "base_uri": "https://localhost:8080/"
        },
        "id": "ozASWW5DPU_H",
        "outputId": "15198df7-001e-4b11-ab2e-b8832a250593"
      },
      "outputs": [
        {
          "name": "stderr",
          "output_type": "stream",
          "text": [
            "/usr/local/lib/python3.10/dist-packages/music21/midi/translate.py:874: TranslateWarning: Unable to determine instrument from <music21.midi.MidiEvent SEQUENCE_TRACK_NAME, track=7, channel=None, data=b'Percuss\\xe3o'>; getting generic Instrument\n",
            "  warnings.warn(\n",
            "/usr/local/lib/python3.10/dist-packages/music21/midi/translate.py:874: TranslateWarning: Unable to determine instrument from <music21.midi.MidiEvent SEQUENCE_TRACK_NAME, track=8, channel=None, data=b'Percuss\\xe3o'>; getting generic Instrument\n",
            "  warnings.warn(\n",
            "/usr/local/lib/python3.10/dist-packages/music21/midi/translate.py:874: TranslateWarning: Unable to determine instrument from <music21.midi.MidiEvent SEQUENCE_TRACK_NAME, track=13, channel=None, data=b'Bic\\xed'>; getting generic Instrument\n",
            "  warnings.warn(\n",
            "/usr/local/lib/python3.10/dist-packages/music21/midi/translate.py:874: TranslateWarning: Unable to determine instrument from <music21.midi.MidiEvent SEQUENCE_TRACK_NAME, track=0, channel=None, data=b'\\x88\\x9dX\\x03oard\\x00'>; getting generic Instrument\n",
            "  warnings.warn(\n"
          ]
        }
      ],
      "source": [
        "notes = []\n",
        "for file in glob.glob(\"midi_songs/*.mid\"):\n",
        "    midi = converter.parse(file)\n",
        "    notes_to_parse = None\n",
        "    parts = instrument.partitionByInstrument(midi)\n",
        "    if parts: # file has instrument parts\n",
        "        notes_to_parse = parts.parts[0].recurse()\n",
        "    else: # file has notes in a flat structure\n",
        "        notes_to_parse = midi.flat.notes\n",
        "    for element in notes_to_parse:\n",
        "        if isinstance(element, note.Note):\n",
        "            notes.append(str(element.pitch))\n",
        "        elif isinstance(element, chord.Chord):\n",
        "            notes.append('.'.join(str(n) for n in element.normalOrder))\n"
      ]
    },
    {
      "cell_type": "code",
      "execution_count": 4,
      "metadata": {
        "id": "VwxBAbybPjky"
      },
      "outputs": [],
      "source": [
        "with open('data/notes', 'wb') as filepath:\n",
        "        pickle.dump(notes, filepath)\n"
      ]
    },
    {
      "cell_type": "markdown",
      "metadata": {
        "id": "20kuDG2BRK13"
      },
      "source": [
        "Preparing the sequences used by the Neural Network"
      ]
    },
    {
      "cell_type": "code",
      "execution_count": 5,
      "metadata": {
        "colab": {
          "base_uri": "https://localhost:8080/"
        },
        "id": "ZFH2_2L5RC-v",
        "outputId": "a0803492-f38a-42dc-f6c2-00815cfe55de"
      },
      "outputs": [
        {
          "name": "stdout",
          "output_type": "stream",
          "text": [
            "110\n"
          ]
        }
      ],
      "source": [
        "sequence_length = 100\n",
        "n_vocab = len(set(notes)) # Length of vocab /different notes\n",
        "print(n_vocab)\n",
        "# get all pitch names\n",
        "pitchnames = sorted(set(item for item in notes))\n",
        "# create a dictionary to map pitches to integers\n",
        "note_to_int = dict((note, number) for number, note in enumerate(pitchnames))\n",
        "network_input = []\n",
        "network_output = []\n",
        "# create input sequences and the corresponding outputs\n",
        "for i in range(0, len(notes) - sequence_length, 1):\n",
        "    sequence_in = notes[i:i + sequence_length]\n",
        "    sequence_out = notes[i + sequence_length]\n",
        "    network_input.append([note_to_int[char] for char in sequence_in])\n",
        "    network_output.append(note_to_int[sequence_out])\n",
        "n_patterns = len(network_input)\n",
        "# reshape the input into a format compatible with LSTM layers\n",
        "network_input = numpy.reshape(network_input, (n_patterns, sequence_length, 1))\n",
        "# normalize input\n",
        "network_input = network_input / float(n_vocab)\n",
        "network_output = tf.keras.utils.to_categorical(network_output)"
      ]
    },
    {
      "cell_type": "code",
      "execution_count": 6,
      "metadata": {
        "colab": {
          "base_uri": "https://localhost:8080/"
        },
        "id": "_aM1T0GBRbGu",
        "outputId": "b94074da-ed48-4688-8506-92c5b3c74433"
      },
      "outputs": [
        {
          "name": "stderr",
          "output_type": "stream",
          "text": [
            "WARNING:tensorflow:Layer lstm will not use cuDNN kernels since it doesn't meet the criteria. It will use a generic GPU kernel as fallback when running on GPU.\n",
            "WARNING:tensorflow:Layer lstm_1 will not use cuDNN kernels since it doesn't meet the criteria. It will use a generic GPU kernel as fallback when running on GPU.\n"
          ]
        }
      ],
      "source": [
        "\"\"\" create the structure of the neural network \"\"\"\n",
        "model = Sequential()\n",
        "model.add(LSTM(\n",
        "    256,\n",
        "    input_shape=(network_input.shape[1], network_input.shape[2]),\n",
        "    recurrent_dropout=0.3,\n",
        "    return_sequences=True\n",
        "))\n",
        "model.add(LSTM(256, return_sequences=True, recurrent_dropout=0.3,))\n",
        "model.add(LSTM(256))\n",
        "model.add(BatchNorm())\n",
        "model.add(Dropout(0.3))\n",
        "model.add(Dense(256))\n",
        "model.add(Activation('relu'))\n",
        "model.add(BatchNorm())\n",
        "model.add(Dropout(0.3))\n",
        "model.add(Dense(n_vocab))\n",
        "model.add(Activation('softmax'))\n",
        "model.compile(loss='categorical_crossentropy', optimizer='rmsprop')\n"
      ]
    },
    {
      "cell_type": "code",
      "execution_count": 7,
      "metadata": {
        "colab": {
          "base_uri": "https://localhost:8080/"
        },
        "id": "gyF24tQORwR1",
        "outputId": "121ab641-dc09-43c6-d5f1-b050f949d0be"
      },
      "outputs": [
        {
          "name": "stdout",
          "output_type": "stream",
          "text": [
            "Model: \"sequential\"\n",
            "_________________________________________________________________\n",
            " Layer (type)                Output Shape              Param #   \n",
            "=================================================================\n",
            " lstm (LSTM)                 (None, 100, 256)          264192    \n",
            "                                                                 \n",
            " lstm_1 (LSTM)               (None, 100, 256)          525312    \n",
            "                                                                 \n",
            " lstm_2 (LSTM)               (None, 256)               525312    \n",
            "                                                                 \n",
            " batch_normalization (Batch  (None, 256)               1024      \n",
            " Normalization)                                                  \n",
            "                                                                 \n",
            " dropout (Dropout)           (None, 256)               0         \n",
            "                                                                 \n",
            " dense (Dense)               (None, 256)               65792     \n",
            "                                                                 \n",
            " activation (Activation)     (None, 256)               0         \n",
            "                                                                 \n",
            " batch_normalization_1 (Bat  (None, 256)               1024      \n",
            " chNormalization)                                                \n",
            "                                                                 \n",
            " dropout_1 (Dropout)         (None, 256)               0         \n",
            "                                                                 \n",
            " dense_1 (Dense)             (None, 110)               28270     \n",
            "                                                                 \n",
            " activation_1 (Activation)   (None, 110)               0         \n",
            "                                                                 \n",
            "=================================================================\n",
            "Total params: 1410926 (5.38 MB)\n",
            "Trainable params: 1409902 (5.38 MB)\n",
            "Non-trainable params: 1024 (4.00 KB)\n",
            "_________________________________________________________________\n"
          ]
        }
      ],
      "source": [
        "model.summary()"
      ]
    },
    {
      "cell_type": "code",
      "execution_count": 8,
      "metadata": {
        "id": "MgVZ1CLYRz9D"
      },
      "outputs": [],
      "source": [
        "\"\"\" train the neural network \"\"\"\n",
        "filepath = \"weights-improvement-{epoch:02d}-{loss:.4f}-bigger.hdf5\"\n",
        "checkpoint = ModelCheckpoint(\n",
        "    filepath,\n",
        "    monitor='loss',\n",
        "    verbose=0,\n",
        "    save_best_only=True,\n",
        "    mode='min'\n",
        ")\n",
        "callbacks_list = [checkpoint]"
      ]
    },
    {
      "cell_type": "markdown",
      "metadata": {
        "id": "Ams0OmFNSc0d"
      },
      "source": [
        "Training the model"
      ]
    },
    {
      "cell_type": "code",
      "execution_count": 9,
      "metadata": {
        "colab": {
          "base_uri": "https://localhost:8080/"
        },
        "id": "cxG0nGdISFoZ",
        "outputId": "9a6f5087-e61a-493c-b981-9594d7eecf19"
      },
      "outputs": [
        {
          "name": "stdout",
          "output_type": "stream",
          "text": [
            "Epoch 1/40\n",
            "116/116 [==============================] - 73s 540ms/step - loss: 3.9474\n",
            "Epoch 2/40\n"
          ]
        },
        {
          "name": "stderr",
          "output_type": "stream",
          "text": [
            "/usr/local/lib/python3.10/dist-packages/keras/src/engine/training.py:3103: UserWarning: You are saving your model as an HDF5 file via `model.save()`. This file format is considered legacy. We recommend using instead the native Keras format, e.g. `model.save('my_model.keras')`.\n",
            "  saving_api.save_model(\n"
          ]
        },
        {
          "name": "stdout",
          "output_type": "stream",
          "text": [
            "116/116 [==============================] - 63s 539ms/step - loss: 3.5076\n",
            "Epoch 3/40\n",
            "116/116 [==============================] - 64s 554ms/step - loss: 3.3629\n",
            "Epoch 4/40\n",
            "116/116 [==============================] - 63s 543ms/step - loss: 3.2340\n",
            "Epoch 5/40\n",
            "116/116 [==============================] - 67s 575ms/step - loss: 3.1176\n",
            "Epoch 6/40\n",
            "116/116 [==============================] - 66s 566ms/step - loss: 2.9310\n",
            "Epoch 7/40\n",
            "116/116 [==============================] - 66s 570ms/step - loss: 2.7571\n",
            "Epoch 8/40\n",
            "116/116 [==============================] - 65s 561ms/step - loss: 2.6050\n",
            "Epoch 9/40\n",
            "116/116 [==============================] - 66s 568ms/step - loss: 2.4260\n",
            "Epoch 10/40\n",
            "116/116 [==============================] - 70s 605ms/step - loss: 2.2344\n",
            "Epoch 11/40\n",
            "116/116 [==============================] - 67s 573ms/step - loss: 2.0615\n",
            "Epoch 12/40\n",
            "116/116 [==============================] - 63s 542ms/step - loss: 1.8994\n",
            "Epoch 13/40\n",
            "116/116 [==============================] - 64s 548ms/step - loss: 1.7182\n",
            "Epoch 14/40\n",
            "116/116 [==============================] - 65s 564ms/step - loss: 1.5686\n",
            "Epoch 15/40\n",
            "116/116 [==============================] - 65s 559ms/step - loss: 1.4208\n",
            "Epoch 16/40\n",
            "116/116 [==============================] - 67s 580ms/step - loss: 1.2989\n",
            "Epoch 17/40\n",
            "116/116 [==============================] - 68s 586ms/step - loss: 1.1839\n",
            "Epoch 18/40\n",
            "116/116 [==============================] - 71s 608ms/step - loss: 1.0813\n",
            "Epoch 19/40\n",
            "116/116 [==============================] - 65s 559ms/step - loss: 0.9800\n",
            "Epoch 20/40\n",
            "116/116 [==============================] - 64s 553ms/step - loss: 0.9131\n",
            "Epoch 21/40\n",
            "116/116 [==============================] - 64s 555ms/step - loss: 0.8403\n",
            "Epoch 22/40\n",
            "116/116 [==============================] - 64s 552ms/step - loss: 0.7870\n",
            "Epoch 23/40\n",
            "116/116 [==============================] - 65s 559ms/step - loss: 0.7277\n",
            "Epoch 24/40\n",
            "116/116 [==============================] - 65s 558ms/step - loss: 0.6886\n",
            "Epoch 25/40\n",
            "116/116 [==============================] - 64s 556ms/step - loss: 0.6603\n",
            "Epoch 26/40\n",
            "116/116 [==============================] - 64s 549ms/step - loss: 0.5941\n",
            "Epoch 27/40\n",
            "116/116 [==============================] - 64s 550ms/step - loss: 0.5690\n",
            "Epoch 28/40\n",
            "116/116 [==============================] - 64s 549ms/step - loss: 0.5393\n",
            "Epoch 29/40\n",
            "116/116 [==============================] - 64s 553ms/step - loss: 0.5017\n",
            "Epoch 30/40\n",
            "116/116 [==============================] - 65s 561ms/step - loss: 0.4723\n",
            "Epoch 31/40\n",
            "116/116 [==============================] - 65s 560ms/step - loss: 0.4578\n",
            "Epoch 32/40\n",
            "116/116 [==============================] - 66s 570ms/step - loss: 0.4280\n",
            "Epoch 33/40\n",
            "116/116 [==============================] - 65s 561ms/step - loss: 0.4092\n",
            "Epoch 34/40\n",
            "116/116 [==============================] - 66s 567ms/step - loss: 0.3924\n",
            "Epoch 35/40\n",
            "116/116 [==============================] - 65s 564ms/step - loss: 0.3846\n",
            "Epoch 36/40\n",
            "116/116 [==============================] - 65s 557ms/step - loss: 0.3607\n",
            "Epoch 37/40\n",
            "116/116 [==============================] - 64s 554ms/step - loss: 0.3556\n",
            "Epoch 38/40\n",
            "116/116 [==============================] - 65s 557ms/step - loss: 0.3419\n",
            "Epoch 39/40\n",
            "116/116 [==============================] - 64s 555ms/step - loss: 0.3294\n",
            "Epoch 40/40\n",
            "116/116 [==============================] - 64s 550ms/step - loss: 0.3160\n"
          ]
        },
        {
          "data": {
            "text/plain": [
              "<keras.src.callbacks.History at 0x78cd071aab30>"
            ]
          },
          "execution_count": 9,
          "metadata": {},
          "output_type": "execute_result"
        }
      ],
      "source": [
        "model.fit(network_input, network_output, epochs=40, batch_size=128, callbacks=callbacks_list)\n"
      ]
    },
    {
      "cell_type": "markdown",
      "metadata": {
        "id": "BikH81IhcgxN"
      },
      "source": []
    },
    {
      "cell_type": "code",
      "execution_count": null,
      "metadata": {
        "id": "H8f7hHgTSeTs"
      },
      "outputs": [],
      "source": [
        "# Load the weights to each node\n",
        "model.load_weights('weights-improvement-71-0.1740-bigger.hdf5')"
      ]
    },
    {
      "cell_type": "code",
      "execution_count": 12,
      "metadata": {
        "id": "R6g14eOtffUd"
      },
      "outputs": [],
      "source": [
        "import numpy\n",
        "# pick a random sequence from the input as a starting point for the prediction\n",
        "start = numpy.random.randint(0, len(network_input)-1)\n",
        "\n",
        "int_to_note = dict((number, note) for number, note in enumerate(pitchnames))\n",
        "\n",
        "pattern = network_input[start]\n",
        "prediction_output = []\n",
        "\n",
        "# generate 500 notes\n",
        "for note_index in range(500):\n",
        "  prediction_input = numpy.reshape(pattern, (1, len(pattern), 1))\n",
        "  prediction_input = prediction_input / float(n_vocab)\n",
        "  prediction = model.predict(prediction_input, verbose=0)\n",
        "  index = numpy.argmax(prediction)\n",
        "  result = int_to_note[index]\n",
        "  prediction_output.append(result)\n",
        "  pattern = numpy.append(pattern, index)\n",
        "  pattern = pattern[1:len(pattern)]"
      ]
    },
    {
      "cell_type": "code",
      "execution_count": 13,
      "metadata": {
        "id": "jqnP3zV2fo79"
      },
      "outputs": [],
      "source": [
        "offset = 0\n",
        "output_notes = []\n",
        "# create note and chord objects based on the values generated by the model\n",
        "for pattern in prediction_output:\n",
        "    # pattern is a chord\n",
        "    if ('.' in pattern) or pattern.isdigit():\n",
        "        notes_in_chord = pattern.split('.')\n",
        "        notes = []\n",
        "        for current_note in notes_in_chord:\n",
        "            new_note = note.Note(int(current_note))\n",
        "            new_note.storedInstrument = instrument.Piano()\n",
        "            notes.append(new_note)\n",
        "        new_chord = chord.Chord(notes)\n",
        "        new_chord.offset = offset\n",
        "        output_notes.append(new_chord)\n",
        "    # pattern is a note\n",
        "    else:\n",
        "        new_note = note.Note(pattern)\n",
        "        new_note.offset = offset\n",
        "        new_note.storedInstrument = instrument.Piano()\n",
        "        output_notes.append(new_note)\n",
        "    # increase offset each iteration so that notes do not stack\n",
        "    offset += 0.5"
      ]
    },
    {
      "cell_type": "code",
      "execution_count": 16,
      "metadata": {
        "colab": {
          "base_uri": "https://localhost:8080/",
          "height": 35
        },
        "id": "BNoJ-yQtkjdA",
        "outputId": "56746761-7429-411d-a650-eb29ff018be5"
      },
      "outputs": [
        {
          "data": {
            "application/vnd.google.colaboratory.intrinsic+json": {
              "type": "string"
            },
            "text/plain": [
              "'test_output.mid'"
            ]
          },
          "execution_count": 16,
          "metadata": {},
          "output_type": "execute_result"
        }
      ],
      "source": [
        "from music21 import stream\n",
        "midi_stream = stream.Stream(output_notes)\n",
        "\n",
        "midi_stream.write('midi', fp='test_output.mid')"
      ]
    },
    {
      "cell_type": "code",
      "execution_count": null,
      "metadata": {
        "id": "5aN2P8ztktmZ"
      },
      "outputs": [],
      "source": []
    }
  ],
  "metadata": {
    "accelerator": "GPU",
    "colab": {
      "gpuType": "T4",
      "provenance": []
    },
    "kernelspec": {
      "display_name": "Python 3",
      "name": "python3"
    },
    "language_info": {
      "name": "python",
      "version": "3.11.9"
    }
  },
  "nbformat": 4,
  "nbformat_minor": 0
}
